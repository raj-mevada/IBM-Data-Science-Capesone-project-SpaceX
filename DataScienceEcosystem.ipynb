{
 "cells": [
  {
   "cell_type": "markdown",
   "id": "d49b79c6",
   "metadata": {},
   "source": [
    "# Data Science Tools and Ecosystem"
   ]
  },
  {
   "cell_type": "markdown",
   "id": "6d266b10",
   "metadata": {},
   "source": [
    "In this notebook, Data Science Tools and Ecosystem are summarized."
   ]
  },
  {
   "cell_type": "markdown",
   "id": "2e2fa3dc",
   "metadata": {},
   "source": [
    "Some of the popular languages that Data Scientists use are:"
   ]
  },
  {
   "cell_type": "markdown",
   "id": "46e8ee6b",
   "metadata": {},
   "source": [
    "ordered list\n",
    "<ol>\n",
    "<li>python</li>\n",
    "<li>R</li>\n",
    "<li>SQL</li>\n",
    "<li>Java</li>\n",
    "<li>Julia</li>\n",
    "<li>Matlab</li>\n",
    "<li>Scala</li>\n",
    "<li>C++</li>\n",
    "<li>Saas</li>\n",
    "<li>Javascript</li>\n",
    "</ol>"
   ]
  },
  {
   "cell_type": "markdown",
   "id": "1d1ec16c",
   "metadata": {},
   "source": [
    "Some of the commonly used libraries used by Data Scientists include:"
   ]
  },
  {
   "cell_type": "markdown",
   "id": "d80518ba",
   "metadata": {},
   "source": [
    "ordered list \n",
    "<ol>\n",
    "<li>NumPy</li>\n",
    "<li>Pandas</li>\n",
    "<li>Scikit-learn</li>\n",
    "<li>TensorFlow</li>\n",
    "<li>Keras</li>\n",
    "<li>PyTorch</li>\n",
    "<li>Matplotlib</li>\n",
    "<li>Seaborn</li>\n",
    "<li>Plotly</li>\n",
    "<li>Bokeh</li>\n",
    "</ol>"
   ]
  },
  {
   "cell_type": "markdown",
   "id": "ced4016b",
   "metadata": {},
   "source": [
    "| Data Science Tools |\n",
    "|:------------------:|\n",
    "| Jupyter Notebook    |\n",
    "| Spyder              |\n",
    "| RStudio             |"
   ]
  },
  {
   "cell_type": "markdown",
   "id": "70a3f89f",
   "metadata": {},
   "source": [
    "### Below are a few examples of evaluating arithmetic expressions in Python"
   ]
  },
  {
   "cell_type": "code",
   "execution_count": 21,
   "id": "eafd653d",
   "metadata": {},
   "outputs": [
    {
     "data": {
      "text/plain": [
       "17"
      ]
     },
     "execution_count": 21,
     "metadata": {},
     "output_type": "execute_result"
    }
   ],
   "source": [
    "#This a simple arithmetic expression to mutiply then add integers\n",
    "(3*4)+5"
   ]
  },
  {
   "cell_type": "code",
   "execution_count": 22,
   "id": "44036821",
   "metadata": {},
   "outputs": [
    {
     "data": {
      "text/plain": [
       "3.3333333333333335"
      ]
     },
     "execution_count": 22,
     "metadata": {},
     "output_type": "execute_result"
    }
   ],
   "source": [
    "#This will convert 200 minutes to hours by diving by 60\n",
    "(200/60)"
   ]
  },
  {
   "cell_type": "markdown",
   "id": "b28dc5b4",
   "metadata": {},
   "source": [
    "### Objectives:\n",
    "\n",
    "- Create a Jupyter Notebook\n",
    "- Insert code and markdown cells\n",
    "- Share your notebook through GitHub\n"
   ]
  },
  {
   "cell_type": "markdown",
   "id": "3156c9b6",
   "metadata": {},
   "source": [
    "unordered list\n",
    "\n"
   ]
  },
  {
   "cell_type": "markdown",
   "id": "95ff58c6",
   "metadata": {},
   "source": [
    "#List popular languages for Data Science\n",
    "<ol>\n",
    "<li>python</li>\n",
    "<li>R</li>\n",
    "<li>SQL</li>\n",
    "<li>Java</li>\n",
    "<li>Julia</li>\n",
    "<li>Matlab</li>\n",
    "<li>Scala</li>\n",
    "<li>C++</li>\n",
    "<li>Saas</li>\n",
    "<li>Javascript</li>\n",
    "</ol>"
   ]
  },
  {
   "cell_type": "markdown",
   "id": "bb900606",
   "metadata": {},
   "source": [
    "## Author\n",
    "Raj Mevada"
   ]
  },
  {
   "cell_type": "code",
   "execution_count": null,
   "id": "4eae0d8d",
   "metadata": {},
   "outputs": [],
   "source": []
  }
 ],
 "metadata": {
  "kernelspec": {
   "display_name": "Python 3 (ipykernel)",
   "language": "python",
   "name": "python3"
  },
  "language_info": {
   "codemirror_mode": {
    "name": "ipython",
    "version": 3
   },
   "file_extension": ".py",
   "mimetype": "text/x-python",
   "name": "python",
   "nbconvert_exporter": "python",
   "pygments_lexer": "ipython3",
   "version": "3.9.13"
  }
 },
 "nbformat": 4,
 "nbformat_minor": 5
}
