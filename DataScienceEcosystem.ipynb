{
 "cells": [
  {
   "cell_type": "markdown",
   "id": "42f8e00a",
   "metadata": {},
   "source": [
    "# Data Science Tools and Ecosystem"
   ]
  },
  {
   "cell_type": "markdown",
   "id": "55e74641",
   "metadata": {},
   "source": [
    "In this notebook, Data Science Tools and Ecosystem are summarized."
   ]
  },
  {
   "cell_type": "markdown",
   "id": "1124a4e1",
   "metadata": {},
   "source": [
    "Some of the popular languages that Data Scientists use are:"
   ]
  },
  {
   "cell_type": "markdown",
   "id": "fc9f1772",
   "metadata": {},
   "source": [
    "ordered list\n",
    "<ol>\n",
    "<li>python</li>\n",
    "<li>R</li>\n",
    "<li>SQL</li>\n",
    "<li>Java</li>\n",
    "<li>Julia</li>\n",
    "</ol>"
   ]
  },
  {
   "cell_type": "markdown",
   "id": "f1992583",
   "metadata": {},
   "source": [
    "Some of the commonly used libraries used by Data Scientists include:\n",
    "ordered list\n",
    "1.python\n",
    "2.R\n",
    "3.SQL\n",
    "4.Java\n",
    "5.Julia"
   ]
  },
  {
   "cell_type": "markdown",
   "id": "0ce2cd93",
   "metadata": {},
   "source": [
    "Data Science Tools"
   ]
  },
  {
   "cell_type": "markdown",
   "id": "11429cbd",
   "metadata": {},
   "source": [
    "### Below are a few examples of evaluating arithmetic expressions in Python"
   ]
  },
  {
   "cell_type": "code",
   "execution_count": 14,
   "id": "70bad07f",
   "metadata": {},
   "outputs": [
    {
     "data": {
      "text/plain": [
       "17"
      ]
     },
     "execution_count": 14,
     "metadata": {},
     "output_type": "execute_result"
    }
   ],
   "source": [
    "#This a simple arithmetic expression to mutiply then add integers\n",
    "(3*4)+5"
   ]
  },
  {
   "cell_type": "code",
   "execution_count": 18,
   "id": "8ed621a7",
   "metadata": {},
   "outputs": [
    {
     "data": {
      "text/plain": [
       "3.3333333333333335"
      ]
     },
     "execution_count": 18,
     "metadata": {},
     "output_type": "execute_result"
    }
   ],
   "source": [
    "#This will convert 200 minutes to hours by diving by 60\n",
    "(200/60)"
   ]
  },
  {
   "cell_type": "markdown",
   "id": "74ec9a71",
   "metadata": {},
   "source": [
    "**Objectives:"
   ]
  },
  {
   "cell_type": "markdown",
   "id": "d80d2440",
   "metadata": {},
   "source": [
    "unordered list\n",
    "\n"
   ]
  },
  {
   "cell_type": "markdown",
   "id": "fbff738a",
   "metadata": {},
   "source": [
    "#List popular languages for Data Science\n",
    "<ol>\n",
    "<li>python</li>\n",
    "<li>R</li>\n",
    "<li>SQL</li>\n",
    "<li>Java</li>\n",
    "<li>Julia</li>\n",
    "</ol>"
   ]
  },
  {
   "cell_type": "markdown",
   "id": "361fed2c",
   "metadata": {},
   "source": [
    "## Author\n",
    "Raj Mevada"
   ]
  },
  {
   "cell_type": "code",
   "execution_count": null,
   "id": "e4d7f2db",
   "metadata": {},
   "outputs": [],
   "source": []
  }
 ],
 "metadata": {
  "kernelspec": {
   "display_name": "Python 3 (ipykernel)",
   "language": "python",
   "name": "python3"
  },
  "language_info": {
   "codemirror_mode": {
    "name": "ipython",
    "version": 3
   },
   "file_extension": ".py",
   "mimetype": "text/x-python",
   "name": "python",
   "nbconvert_exporter": "python",
   "pygments_lexer": "ipython3",
   "version": "3.9.13"
  }
 },
 "nbformat": 4,
 "nbformat_minor": 5
}
